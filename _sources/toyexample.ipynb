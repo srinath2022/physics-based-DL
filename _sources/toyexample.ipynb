{
  "nbformat": 4,
  "nbformat_minor": 0,
  "metadata": {
    "colab": {
      "name": "toyexample.ipynb",
      "provenance": [],
      "collapsed_sections": [],
      "include_colab_link": true
    },
    "kernelspec": {
      "name": "python3",
      "display_name": "Python 3"
    },
    "language_info": {
      "name": "python"
    },
    "accelerator": "GPU"
  },
  "cells": [
    {
      "cell_type": "markdown",
      "metadata": {
        "id": "view-in-github",
        "colab_type": "text"
      },
      "source": [
        "<a href=\"https://colab.research.google.com/github/srinath2022/physics-based-DL/blob/master/toyexample.ipynb\" target=\"_parent\"><img src=\"https://colab.research.google.com/assets/colab-badge.svg\" alt=\"Open In Colab\"/></a>"
      ]
    },
    {
      "cell_type": "markdown",
      "source": [
        "# A Toy Example\n",
        "\n",
        "We will start off by considering a toy example of tossing a coin and eventually add air resistance etc. Let us begin by writing down the velocity and displacement equations of a point mass object thrown vertically above the ground with an initial velocity $u_0$.   \n",
        "\n",
        "Under the effect of gravity, the velocity of the object at any time instant from start($t=0$) is given by   \n",
        "\n",
        "$ v_t = u_0 + gt $   \n",
        "\n",
        "where $g$ represents acceleration due to gravity $\\sim 10 \\frac{m}{s^2}$ \n",
        "\n",
        "Also, the displacement covered by the point mass is given by\n",
        "\n",
        "$ s_t = u_0t + \\frac{1}{2}gt^2 $"
      ],
      "metadata": {
        "id": "wgEX45W73zpT"
      }
    },
    {
      "cell_type": "code",
      "source": [
        "import matplotlib.pyplot as plt\n",
        "import torch\n",
        "import numpy as np\n",
        "import random\n",
        "import torch.nn as nn\n",
        "from torch.utils.data import Dataset, DataLoader\n",
        "from torch.nn import Linear, Sigmoid, ReLU, Tanh, BatchNorm1d, ELU, LeakyReLU\n",
        "import torch.optim as optim"
      ],
      "metadata": {
        "id": "vFRAjsCj4gVq"
      },
      "execution_count": 170,
      "outputs": []
    },
    {
      "cell_type": "code",
      "source": [
        "# Prediction of path using physics alone without any external variables\n",
        "#inital velocity\n",
        "u_int = 79.9\n",
        "# acceleration due to gravity\n",
        "a = -9.8\n",
        "dt = 0.001\n",
        "t = dt\n",
        "vert_disp = []\n",
        "v = u_int + a* dt\n",
        "ds = (v**2 - u_int**2)/(2*a)\n",
        "s = ds\n",
        "vert_disp.append(s)\n",
        "u_int = v\n",
        "data_pair = []  \n",
        "while( s > 0):\n",
        "  v = u_int + a* dt\n",
        "  ds = (v**2 - u_int**2)/(2*a)\n",
        "  s+= ds\n",
        "  t = t + dt\n",
        "  vert_disp.append(s)\n",
        "  u_int = v\n",
        "  \n",
        "\n",
        "# Plot the displacement\n",
        "plt.plot(vert_disp)\n",
        "plt.ylabel('displacement')\n",
        "plt.xlabel('time')\n",
        "plt.show()"
      ],
      "metadata": {
        "id": "h2mdQ5y_YNN_",
        "colab": {
          "base_uri": "https://localhost:8080/",
          "height": 278
        },
        "outputId": "d13833d5-c97c-433b-d848-e2a0bfa5d0aa"
      },
      "execution_count": 197,
      "outputs": [
        {
          "output_type": "display_data",
          "data": {
            "text/plain": [
              "<Figure size 432x288 with 1 Axes>"
            ],
            "image/png": "[encoded data removed]"
          },
          "metadata": {
            "needs_background": "light"
          }
        }
      ]
    },
    {
      "cell_type": "code",
      "source": [
        "## Generate Ground truth data using for toss experiment without any external variables\n",
        "data =[]\n",
        "for i in range(100):\n",
        "  #random inital velocity\n",
        "  u_int = np.random.rand(1)*100\n",
        "  u_int = u_int[0]\n",
        "  # acceleration due to gravity\n",
        "  a = -9.8\n",
        "  # random time steps for experiment between 0.01 to 0.001\n",
        "  \n",
        "  dt = [0.01]\n",
        "  dt = dt[0]\n",
        "  t = dt\n",
        "  vert_disp = []\n",
        "  v = u_int + a* dt\n",
        "  ds = (v**2 - u_int**2)/(2*a)\n",
        "  s = ds\n",
        "  vert_disp.append(s)\n",
        "  pair = [np.array([u_int, t]), np.array([s,v])]\n",
        "  u = v\n",
        "  data.append(np.array(pair)) \n",
        "  while( s > 0):\n",
        "    v = u + a* dt\n",
        "    ds = (v**2 - u**2)/(2*a)\n",
        "    s+= ds\n",
        "    t = t + dt\n",
        "    vert_disp.append(s)\n",
        "    pair = np.array([np.array([u_int, t]), np.array([s,v])])\n",
        "    u = v\n",
        "    data.append(pair)\n",
        "\n",
        "data = np.array(data)\n"
      ],
      "metadata": {
        "id": "oU5oprscr78U"
      },
      "execution_count": 198,
      "outputs": []
    },
    {
      "cell_type": "markdown",
      "source": [
        "Let us try to learn trajectory of the ball using supervised learning. The input to our model is intial veclocity and timestamp which which return us the velocity at an instant and displacement in the air."
      ],
      "metadata": {
        "id": "k2xa8bjyWx7X"
      }
    },
    {
      "cell_type": "code",
      "source": [
        "from torch.optim import optimizer\n",
        "\n",
        "## Train a neural network with supervised learning\n",
        "\n",
        "class PhysicsData(Dataset):\n",
        "  def __init__(self, data):\n",
        "    self.data = data\n",
        "  def __len__(self):\n",
        "    return self.data.shape[0]\n",
        "  def __getitem__(self, index):\n",
        "    return data[index][0], data[index][1]\n",
        "num_samples = data.shape[0]\n",
        "print(num_samples)\n",
        "training_data = PhysicsData(data[:int(num_samples*0.8)])\n",
        "test_data = PhysicsData(data[int(num_samples*0.8):])\n",
        "\n",
        "train_dataloader = DataLoader(training_data, batch_size=16, shuffle=True)\n",
        "test_dataloader = DataLoader(test_data, batch_size=16, shuffle=True)\n",
        "\n",
        "def physicsBasedLoss(u,t,s):\n",
        "  return torch.sum(torch.abs(s - u*t + 0.5*9.8*t**2))\n",
        "\n",
        "## MLP used for learining data\n",
        "class NewtonNet(nn.Module):\n",
        "  def __init__(self):\n",
        "    super().__init__()\n",
        "    self.nn1 = Linear(in_features=2, out_features=16)\n",
        "    self.nn2 = Linear(in_features=16, out_features=16)\n",
        "    self.nn3 = Linear(in_features=16, out_features=2)\n",
        "    self.relu = ReLU()\n",
        "    self.sigmd = Sigmoid()\n",
        "    self.tanh = Tanh()\n",
        "    self.elu  = ELU()\n",
        "    self.bn = BatchNorm1d(3)\n",
        "    self.bn1 = BatchNorm1d(2)\n",
        "    self.leaky = LeakyReLU()\n",
        "  def forward(self, x):\n",
        "    x = self.nn1(x)\n",
        "    x = self.tanh(x)\n",
        "    x = self.nn2(x)\n",
        "    x = self.tanh(x)\n",
        "    x = self.nn3(x)\n",
        "\n",
        "    return x\n",
        "\n",
        "device = torch.device(\"cuda:0\" if torch.cuda.is_available() else  \"cpu\")\n",
        "print(device)\n",
        "epochs = 20\n",
        "net = NewtonNet()\n",
        "net.to(device=device)\n",
        "net.train()\n",
        "\n",
        "criterion = nn.MSELoss()\n",
        "optimizer = optim.Adam(net.parameters(),lr = 0.005)\n",
        "\n",
        "for epoch in range(epochs):\n",
        "  epoch_running_loss = 0.0\n",
        "  for i,batch in enumerate(train_dataloader):\n",
        "    inp, op = batch\n",
        "    inp = inp.to(device)\n",
        "    op = op.to(device)\n",
        "    predicted = net(inp.float())\n",
        "    optimizer.zero_grad()\n",
        "    loss = criterion(predicted, op.float())\n",
        "    #loss = physicsBasedLoss(predicted[:,1],t, predicted[:,0])\n",
        "    loss.backward()\n",
        "    epoch_running_loss = epoch_running_loss+loss.detach().cpu()\n",
        "    \n",
        "    optimizer.step()\n",
        "  print(f\"{epoch+1}, epoch loss {epoch_running_loss/len(train_dataloader):.5f}\")\n",
        "print(\"Fininshed training \")\n"
      ],
      "metadata": {
        "colab": {
          "base_uri": "https://localhost:8080/"
        },
        "id": "an-_oTzHzmAH",
        "outputId": "38434ce9-1088-4695-81dd-426a4ea96a7c"
      },
      "execution_count": 262,
      "outputs": [
        {
          "output_type": "stream",
          "name": "stdout",
          "text": [
            "109447\n",
            "cuda:0\n",
            "1, epoch loss 7163.86279\n",
            "2, epoch loss 311.41400\n",
            "3, epoch loss 59.95062\n",
            "4, epoch loss 38.90646\n",
            "5, epoch loss 33.42656\n",
            "6, epoch loss 37.26514\n",
            "7, epoch loss 32.83432\n",
            "8, epoch loss 29.73727\n",
            "9, epoch loss 28.22831\n",
            "10, epoch loss 35.53238\n",
            "11, epoch loss 27.14314\n",
            "12, epoch loss 28.72383\n",
            "13, epoch loss 28.71417\n",
            "14, epoch loss 26.81671\n",
            "15, epoch loss 27.16022\n",
            "16, epoch loss 28.70548\n",
            "17, epoch loss 23.10895\n",
            "18, epoch loss 25.93387\n",
            "19, epoch loss 25.69674\n",
            "20, epoch loss 25.02996\n",
            "Fininshed training \n"
          ]
        }
      ]
    },
    {
      "cell_type": "markdown",
      "source": [
        "Inference: Given timestamps and initial velocity, let us predict the displacement and velocity at an instant of time."
      ],
      "metadata": {
        "id": "qizAwZmfXfp2"
      }
    },
    {
      "cell_type": "code",
      "source": [
        "\n",
        "u_int = 100\n",
        "vert_disp = []\n",
        "dt = 0.01\n",
        "t = dt\n",
        "upper_time = 2*(u_int/9.8)\n",
        "inps = []\n",
        "inp = [u_int, t]\n",
        "inps.append(inp)  \n",
        "vert_disp = []\n",
        "v = u_int + a* dt\n",
        "ds = (v**2 - u_int**2)/(2*a)\n",
        "s = ds\n",
        "vert_disp.append(s)\n",
        "u = v\n",
        "while( t < upper_time):\n",
        "  inp = [u_int, t]\n",
        "  inps.append(inp)\n",
        "  v = u + a* dt\n",
        "  ds = (v**2 - u_int**2)/(2*a)\n",
        "  s+= ds\n",
        "  u = v\n",
        "  t =t+dt\n",
        "inps= torch.FloatTensor(inps)\n",
        "inps = inps.to(device)\n",
        "op  = net(inps)\n",
        "op = op.cpu().data.numpy()\n",
        "# op = list(zip(op, np.array(vert_disp)))\n",
        "# print(op)\n",
        "#x = np.linspace(1, t, 1/dt)\n",
        "# Plot the displacement\n",
        "plt.plot(op)\n",
        "plt.ylabel('displacement and velocity')\n",
        "plt.xlabel('time')\n",
        "plt.show()"
      ],
      "metadata": {
        "colab": {
          "base_uri": "https://localhost:8080/",
          "height": 278
        },
        "id": "joO8_0zV5M5U",
        "outputId": "3ec42827-a4f3-4a47-91c0-ab9066860c85"
      },
      "execution_count": 267,
      "outputs": [
        {
          "output_type": "display_data",
          "data": {
            "text/plain": [
              "<Figure size 432x288 with 1 Axes>"
            ],
            "image/png": "[encoded data removed]"
          },
          "metadata": {
            "needs_background": "light"
          }
        }
      ]
    },
    {
      "cell_type": "code",
      "source": [
        "\n"
      ],
      "metadata": {
        "id": "gm--Fl7GunaG"
      },
      "execution_count": null,
      "outputs": []
    },
    {
      "cell_type": "code",
      "source": [
        ""
      ],
      "metadata": {
        "id": "XIS5eQ9l3DIs"
      },
      "execution_count": null,
      "outputs": []
    }
  ]
}