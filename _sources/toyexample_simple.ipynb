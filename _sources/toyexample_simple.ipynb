{
 "cells": [
  {
   "cell_type": "markdown",
   "id": "57ba67e6",
   "metadata": {},
   "source": [
    "(python_by_example)=\n",
    "\n",
    "# A Toy Example\n",
    "\n",
    "We will start off by considering a toy example of tossing a coin and eventually add air resistance etc. Let us begin by writing down the velocity and displacement equations of a point mass object thrown vertically above the ground with an initial velocity $u_0$.   \n",
    "\n",
    "Under the effect of gravity, the velocity of the object at any time instant from start($t=0$) is given by   \n",
    "\n",
    "$ v_t = u_0 + gt $   \n",
    "\n",
    "where $g$ represents acceleration due to gravity $\\sim 10 \\frac{m}{s^2}$ \n",
    "\n",
    "Also, the displacement covered by the point mass is given by\n",
    "\n",
    "$ s_t = u_0t + \\frac{1}{2}gt^2 $\n",
    "\n",
    "(whileloopprog)="
   ]
  },
  {
   "cell_type": "code",
   "execution_count": 1,
   "id": "537598a8",
   "metadata": {},
   "outputs": [
    {
     "ename": "NameError",
     "evalue": "name 'np' is not defined",
     "output_type": "error",
     "traceback": [
      "\u001b[0;31m---------------------------------------------------------------------------\u001b[0m",
      "\u001b[0;31mNameError\u001b[0m                                 Traceback (most recent call last)",
      "Input \u001b[0;32mIn [1]\u001b[0m, in \u001b[0;36m<cell line: 4>\u001b[0;34m()\u001b[0m\n\u001b[1;32m      3\u001b[0m i \u001b[38;5;241m=\u001b[39m \u001b[38;5;241m0\u001b[39m\n\u001b[1;32m      4\u001b[0m \u001b[38;5;28;01mwhile\u001b[39;00m i \u001b[38;5;241m<\u001b[39m ts_length:\n\u001b[0;32m----> 5\u001b[0m     e \u001b[38;5;241m=\u001b[39m \u001b[43mnp\u001b[49m\u001b[38;5;241m.\u001b[39mrandom\u001b[38;5;241m.\u001b[39mrandn()\n\u001b[1;32m      6\u001b[0m     ϵ_values\u001b[38;5;241m.\u001b[39mappend(e)\n\u001b[1;32m      7\u001b[0m     i \u001b[38;5;241m=\u001b[39m i \u001b[38;5;241m+\u001b[39m \u001b[38;5;241m1\u001b[39m\n",
      "\u001b[0;31mNameError\u001b[0m: name 'np' is not defined"
     ]
    }
   ],
   "source": [
    "ts_length = 100\n",
    "ϵ_values = []\n",
    "i = 0\n",
    "while i < ts_length:\n",
    "    e = np.random.randn()\n",
    "    ϵ_values.append(e)\n",
    "    i = i + 1\n",
    "plt.plot(ϵ_values)\n",
    "plt.show()"
   ]
  }
 ],
 "metadata": {
  "jupytext": {
   "text_representation": {
    "extension": ".md",
    "format_name": "myst"
   }
  },
  "kernelspec": {
   "display_name": "Python 3",
   "language": "python",
   "name": "python3"
  },
  "language_info": {
   "codemirror_mode": {
    "name": "ipython",
    "version": 3
   },
   "file_extension": ".py",
   "mimetype": "text/x-python",
   "name": "python",
   "nbconvert_exporter": "python",
   "pygments_lexer": "ipython3",
   "version": "3.9.12"
  },
  "source_map": [
   10,
   30
  ]
 },
 "nbformat": 4,
 "nbformat_minor": 5
}