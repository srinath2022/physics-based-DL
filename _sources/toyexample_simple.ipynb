{
 "cells": [
  {
   "cell_type": "markdown",
   "id": "9c79a1e4",
   "metadata": {},
   "source": [
    "(python_by_example)=\n",
    "\n",
    "# A Toy Example\n",
    "\n",
    "We will start off by considering a toy example of tossing a coin and eventually add air resistance etc. Let us begin by writing down the velocity and displacement equations of a point mass object thrown vertically above the ground with an initial velocity $u_0$.   \n",
    "\n",
    "Under the effect of gravity, the velocity of the object at any time instant from start($t=0$) is given by   \n",
    "\n",
    "$ v_t = u_0 + gt $   \n",
    "\n",
    "where $g$ represents acceleration due to gravity $\\sim 10 \\frac{m}{s^2}$ \n",
    "\n",
    "Also, the displacement covered by the point mass is given by\n",
    "\n",
    "$ s_t = u_0t + \\frac{1}{2}gt^2 $\n",
    "\n",
    "(whileloopprog)="
   ]
  },
  {
   "cell_type": "code",
   "execution_count": null,
   "id": "7d5fd8da",
   "metadata": {},
   "outputs": [],
   "source": [
    "ts_length = 100\n",
    "ϵ_values = []\n",
    "i = 0\n",
    "while i < ts_length:\n",
    "    e = np.random.randn()\n",
    "    ϵ_values.append(e)\n",
    "    i = i + 1\n",
    "plt.plot(ϵ_values)\n",
    "plt.show()"
   ]
  }
 ],
 "metadata": {
  "jupytext": {
   "text_representation": {
    "extension": ".md",
    "format_name": "myst"
   }
  },
  "kernelspec": {
   "display_name": "Python 3",
   "language": "python",
   "name": "python3"
  },
  "source_map": [
   10,
   30
  ]
 },
 "nbformat": 4,
 "nbformat_minor": 5
}