{
  "nbformat": 4,
  "nbformat_minor": 0,
  "metadata": {
    "colab": {
      "name": "Exp1_UnbiasedProject.ipynb",
      "provenance": [],
      "collapsed_sections": []
    },
    "kernelspec": {
      "name": "python3",
      "display_name": "Python 3"
    },
    "language_info": {
      "name": "python"
    }
  },
  "cells": [
    {
      "cell_type": "code",
      "execution_count": null,
      "metadata": {
        "id": "nnrmCqEwUl4t"
      },
      "outputs": [],
      "source": [
        "\n",
        "!pip install --upgrade --quiet git+https://github.com/tum-pbs/PhiFlow@develop\n",
        "import numpy as np\n",
        "from phi.flow import *\n",
        "import torch"
      ]
    },
    {
      "cell_type": "markdown",
      "source": [
        "# Calculating vertical displacement for a point mass"
      ],
      "metadata": {
        "id": "c0BVfZIG06B0"
      }
    },
    {
      "cell_type": "code",
      "source": [
        "## mks units \n",
        "u_int = 10\n",
        "a = -9.8\n",
        "throw_flag = False\n",
        "dt = 0.01\n",
        "t = 0\n",
        "vert_disp = []\n",
        "v = u_int + a* dt\n",
        "ds = (v**2 - u_int**2)/(2*a)\n",
        "s =ds\n",
        "vert_disp.append(s)\n",
        "u_int = v\n",
        "while( s > 0):\n",
        "  v = u_int + a* dt\n",
        "  ds = (v**2 - u_int**2)/(2*a)\n",
        "  s+= ds\n",
        "  t = t + dt\n",
        "  if(s <= 0):\n",
        "    s = 0\n",
        "  vert_disp.append(s)  \n",
        "  u_int = v\n"
      ],
      "metadata": {
        "id": "h2mdQ5y_YNN_"
      },
      "execution_count": 2,
      "outputs": []
    },
    {
      "cell_type": "code",
      "source": [
        ""
      ],
      "metadata": {
        "id": "jlR4CoAhP5Fy"
      },
      "execution_count": null,
      "outputs": []
    }
  ]
}