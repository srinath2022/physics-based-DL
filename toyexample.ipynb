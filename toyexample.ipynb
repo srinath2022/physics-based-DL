{
  "nbformat": 4,
  "nbformat_minor": 0,
  "metadata": {
    "colab": {
      "name": "toyexample.ipynb",
      "provenance": [],
      "collapsed_sections": [],
      "include_colab_link": true
    },
    "kernelspec": {
      "name": "python3",
      "display_name": "Python 3"
    },
    "language_info": {
      "name": "python"
    }
  },
  "cells": [
    {
      "cell_type": "markdown",
      "metadata": {
        "id": "view-in-github",
        "colab_type": "text"
      },
      "source": [
        "<a href=\"https://colab.research.google.com/github/srinath2022/physics-based-DL/blob/master/toyexample.ipynb\" target=\"_parent\"><img src=\"https://colab.research.google.com/assets/colab-badge.svg\" alt=\"Open In Colab\"/></a>"
      ]
    },
    {
      "cell_type": "markdown",
      "source": [
        "# A Toy Example\n",
        "\n",
        "We will start off by considering a toy example of tossing a coin and eventually add air resistance etc. Let us begin by writing down the velocity and displacement equations of a point mass object thrown vertically above the ground with an initial velocity $u_0$.   \n",
        "\n",
        "Under the effect of gravity, the velocity of the object at any time instant from start($t=0$) is given by   \n",
        "\n",
        "$ v_t = u_0 + gt $   \n",
        "\n",
        "where $g$ represents acceleration due to gravity $\\sim 10 \\frac{m}{s^2}$ \n",
        "\n",
        "Also, the displacement covered by the point mass is given by\n",
        "\n",
        "$ s_t = u_0t + \\frac{1}{2}gt^2 $"
      ],
      "metadata": {
        "id": "wgEX45W73zpT"
      }
    },
    {
      "cell_type": "code",
      "source": [
        "import matplotlib.pyplot as plt"
      ],
      "metadata": {
        "id": "vFRAjsCj4gVq"
      },
      "execution_count": null,
      "outputs": []
    },
    {
      "cell_type": "code",
      "source": [
        "## mks units \n",
        "u_int = 10\n",
        "a = -9.8\n",
        "throw_flag = False\n",
        "dt = 0.01\n",
        "t = 0\n",
        "vert_disp = []\n",
        "v = u_int + a* dt\n",
        "ds = (v**2 - u_int**2)/(2*a)\n",
        "s =ds\n",
        "vert_disp.append(s)\n",
        "u_int = v\n",
        "while( s > 0):\n",
        "  v = u_int + a* dt\n",
        "  ds = (v**2 - u_int**2)/(2*a)\n",
        "  s+= ds\n",
        "  t = t + dt\n",
        "  if(s <= 0):\n",
        "    s = 0\n",
        "  vert_disp.append(s)  \n",
        "  u_int = v\n",
        "\n",
        "# Plot the displacement\n",
        "plt.plot(vert_disp)\n",
        "plt.ylabel('displacement')\n",
        "plt.show()"
      ],
      "metadata": {
        "id": "h2mdQ5y_YNN_",
        "colab": {
          "base_uri": "https://localhost:8080/",
          "height": 265
        },
        "outputId": "1d20fb78-948b-42fe-dcd4-548c7a97e384"
      },
      "execution_count": null,
      "outputs": [
        {
          "output_type": "display_data",
          "data": {
            "text/plain": [
              "<Figure size 432x288 with 1 Axes>"
            ],
            "image/png": "[encoded data removed]"
          },
          "metadata": {
            "needs_background": "light"
          }
        }
      ]
    },
    {
      "cell_type": "code",
      "execution_count": null,
      "metadata": {
        "id": "nnrmCqEwUl4t"
      },
      "outputs": [],
      "source": [
        "# Commenting out as this is not use currently\n",
        "# !pip install --upgrade --quiet git+https://github.com/tum-pbs/PhiFlow@develop\n",
        "# import numpy as np\n",
        "# from phi.flow import *\n",
        "# import torch"
      ]
    }
  ]
}