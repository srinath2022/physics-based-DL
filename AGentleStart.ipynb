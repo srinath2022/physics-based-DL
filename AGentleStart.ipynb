{
  "nbformat": 4,
  "nbformat_minor": 0,
  "metadata": {
    "colab": {
      "name": "AGentleStart.ipynb",
      "provenance": [],
      "collapsed_sections": [],
      "toc_visible": true,
      "include_colab_link": true
    },
    "kernelspec": {
      "name": "python3",
      "display_name": "Python 3"
    },
    "language_info": {
      "name": "python"
    },
    "accelerator": "GPU"
  },
  "cells": [
    {
      "cell_type": "markdown",
      "metadata": {
        "id": "view-in-github",
        "colab_type": "text"
      },
      "source": [
        "<a href=\"https://colab.research.google.com/github/srinath2022/physics-based-DL/blob/master/AGentleStart.ipynb\" target=\"_parent\"><img src=\"https://colab.research.google.com/assets/colab-badge.svg\" alt=\"Open In Colab\"/></a>"
      ]
    },
    {
      "cell_type": "markdown",
      "source": [
        "# A Gentle Start\n",
        "\n",
        "Let us start by exploring a simple physics problem of predicting the displacement covered by a vertically projected mass in presence of air. For the purpose of this experiment, we consider that the actual dynamics of the projected mass are modelled by the equations described below which account for resistance of the medium. We will generate ground truth data by applying above motion equations, then assuming we have no knowledge of the actual(with air resistance) dynamics, we perform experiments to predict the displacement in **only physics**, **only deep learning** and **physics + deep learning** setting.\n",
        "\n",
        "\n",
        "$v_{term} = \\sqrt{\\frac{mg}{c}}$, where $c = \\frac{π}{16}\\rho D^2$\n",
        "\n",
        "For the forward motion from the ground to the top (Ascent)\n",
        "\n",
        "<!-- $v_t = u_0 - v_{term} tan\\left(\\frac{gt}{v_{term}}\\right)$ -->\n",
        "\n",
        "$s_t = u_0t + \\frac{v_{term}^2}{g} ln\\left(cos\\left(\\frac{gt}{v_{term}}\\right)\\right) $\n",
        "\n",
        "$T_{ascent} = \\frac{v_{term}}{g} tan^{-1}\\left(\\frac{u_0}{v_{term}}\\right)$\n",
        "\n",
        "For the return motion from the top to the ground (Descent)\n",
        "\n",
        "<!-- $v_t = -v_{term} tanh\\left(\\frac{g(t-T_{ascent})}{v_{term}}\\right)$ -->\n",
        "\n",
        "$s_t = H_{max}-\\frac{v_{term}^2}{g} ln\\left(cosh\\left(\\frac{g(t-T_{ascent})}{v_{term}}\\right)\\right)$\n",
        "\n",
        "$T_{descent} = \\frac{v_{term}}{g} cosh^{-1}\\left(e^{\\frac{gH_{max}}{v_{term}^2}}\\right)$\n",
        "\n",
        "Total time of flight\n",
        "\n",
        "$T_{flight} = T_{ascent}+T_{descent}$\n",
        "\n",
        "**Note :** As ground truth, we consider the quadratic drag model for a projectile from [here](https://dynref.engr.illinois.edu/afp.html) and [here](https://www.physics.udel.edu/~szalewic/teach/419/cm08ln_quad-drag.pdf)."
      ],
      "metadata": {
        "id": "wgEX45W73zpT"
      }
    },
    {
      "cell_type": "markdown",
      "source": [
        "## Setup\n",
        "\n",
        "The following modules, helper functions are helpful for our experiment throughout this page for visualisation, plots etc. Do not really worry about understanding them right now."
      ],
      "metadata": {
        "id": "2E2YQeEmtaim"
      }
    },
    {
      "cell_type": "code",
      "source": [
        "# Import necessary modules\n",
        "import matplotlib.pyplot as plt\n",
        "import math\n",
        "import numpy as np\n",
        "import torch\n",
        "import torch.nn as nn\n",
        "from torch.utils.data import Dataset, DataLoader\n",
        "import torch.optim as optim\n",
        "device = torch.device(\"cuda:0\" if torch.cuda.is_available() else  \"cpu\")\n",
        "print(device)"
      ],
      "metadata": {
        "id": "OU9uu0K35wLl",
        "colab": {
          "base_uri": "https://localhost:8080/"
        },
        "outputId": "87ed781e-5706-4d8e-d15f-8afc64d6876e"
      },
      "execution_count": 1,
      "outputs": [
        {
          "output_type": "stream",
          "name": "stdout",
          "text": [
            "cuda:0\n"
          ]
        }
      ]
    },
    {
      "cell_type": "code",
      "source": [
        "# Effective constants\n",
        "m = 30 # Mass of projectile in grams(g)\n",
        "g = 9.8 # Acceleration due to gravity in m/s^2\n",
        "density = 1.225 # Air density is 1.225 kg/m^3\n",
        "D = 2 # Diameter of the projected object in cm\n",
        "c = (math.pi/16)*(density)*(D*D)\n",
        "v_term = math.sqrt((10*m*abs(g))/c)"
      ],
      "metadata": {
        "id": "MLsaz1MpyuTP"
      },
      "execution_count": 2,
      "outputs": []
    },
    {
      "cell_type": "code",
      "source": [
        "# Plot the simulation\n",
        "def plot_simulation(times, velocities, displacements):\n",
        "  plt.plot(times, velocities)\n",
        "  plt.plot(times, displacements)\n",
        "  plt.ylabel('velocity')\n",
        "  plt.xlabel('time')\n",
        "  plt.show()"
      ],
      "metadata": {
        "id": "m8BlLbqqeAmd"
      },
      "execution_count": 3,
      "outputs": []
    },
    {
      "cell_type": "code",
      "source": [
        "def compare_plot(times, actual, predicted, D_TYPE):\n",
        "  plt.figure()\n",
        "  plt.title(f\" Plot for {D_TYPE}\")\n",
        "  plt.plot(times, actual, linewidth=2, label='Actual values')\n",
        "  plt.plot(times, predicted, linewidth=2, label='Predicted')\n",
        "  plt.ylabel(D_TYPE)\n",
        "  plt.xlabel('time')\n",
        "  plt.legend(fontsize=14)\n",
        "  plt.show()"
      ],
      "metadata": {
        "id": "ZgfoIthCcEq9"
      },
      "execution_count": 4,
      "outputs": []
    },
    {
      "cell_type": "code",
      "source": [
        "# Plotting the train loss curve\n",
        "def loss_plot(epochs, losses):\n",
        "  plt.figure()\n",
        "  plt.plot(epochs, losses, 'r')\n",
        "  plt.ylabel(\"Loss\")\n",
        "  plt.xlabel('Epoch')\n",
        "  plt.show()"
      ],
      "metadata": {
        "id": "GuQ77MSE3iDG"
      },
      "execution_count": 5,
      "outputs": []
    },
    {
      "cell_type": "markdown",
      "source": [
        "## The Simulation\n",
        "\n",
        "We first show a simulation of the proposed particle mass using the above equations for a given initial velocity to get an idea of how the displacement varies with time. We will first calculate the time of flight($T_{flight}$) for the particle, then record displacement covered at each time step starting from $t=0$ to $T_{flight}$ in step sizes of $\\frac{1}{5}s$."
      ],
      "metadata": {
        "id": "e2lEdZHrxveb"
      }
    },
    {
      "cell_type": "code",
      "source": [
        "def time_of_flight(u_initial, medium):\n",
        "  if medium=='VACCUM':\n",
        "    return 2*u_initial/(g)\n",
        "  elif medium=='AIR_QUADRATIC_DRAG':\n",
        "    T_ascent = (v_term/g)*math.atan(u_initial/v_term)\n",
        "    H_max = u_initial*T_ascent + ((v_term*v_term)/g)*math.log(math.cos((g*T_ascent)/v_term))\n",
        "    T_descent = (v_term/g)*math.acosh(math.exp((g*H_max)/(v_term*v_term)))\n",
        "    T_flight = T_ascent+T_descent\n",
        "    return T_flight\n",
        "  else:\n",
        "    return \"UNK\"\n",
        "\n",
        "# Velocity of the particle at time step T. Initial velocity of the particle is u.\n",
        "def velocity_t(u_initial, t, medium):\n",
        "  if medium=='VACCUM':\n",
        "    return u_initial - g*t\n",
        "  elif medium=='AIR_QUADRATIC_DRAG':\n",
        "    T_ascent = (v_term/g)*math.atan(u_initial/v_term)\n",
        "    if t <= T_ascent:\n",
        "      return u_initial - v_term*math.tan((g*t)/v_term)\n",
        "    else:\n",
        "      return u_initial*0.0- v_term*math.tanh((g*(t-T_ascent))/v_term)\n",
        "  else:\n",
        "    return \"UNK\"\n",
        "\n",
        "# Displacement by the particle\n",
        "def displacement_t(u_initial, t, medium):\n",
        "  if medium=='VACCUM':\n",
        "    return u_initial*t-(1/2)*g*t*t\n",
        "  elif medium=='AIR_QUADRATIC_DRAG':\n",
        "    T_ascent = (v_term/g)*math.atan(u_initial/v_term)\n",
        "    if t <= T_ascent:\n",
        "      s_t = u_initial*t + ((v_term*v_term)/g)*math.log(math.cos((g*t)/v_term))\n",
        "      return s_t\n",
        "    else:\n",
        "      H_max = u_initial*T_ascent + ((v_term*v_term)/g)*math.log(math.cos((g*T_ascent)/v_term))\n",
        "      s_t = H_max - ((v_term*v_term)/g)*math.log(math.cosh((g*(t-T_ascent))/v_term))\n",
        "      return s_t\n",
        "  else:\n",
        "    return \"UNK\"\n",
        "\n",
        "def simulate_flight(u_initial, medium):\n",
        "  T =  time_of_flight(u_initial, medium) # time of flight\n",
        "  t = 0\n",
        "  times = []\n",
        "  velocities = []\n",
        "  displacements = []\n",
        "  # calculate velocity at evert time step (of one second interval)\n",
        "  while t <= T:\n",
        "    v_t = velocity_t(u_initial, t, medium)\n",
        "    s_t = displacement_t(u_initial, t, medium)\n",
        "    times.append(t)\n",
        "    velocities.append(v_t)\n",
        "    displacements.append(s_t)\n",
        "    t = t+(1/5)\n",
        "\n",
        "  return times, velocities, displacements"
      ],
      "metadata": {
        "id": "5-gYzIT1ZjHR"
      },
      "execution_count": 6,
      "outputs": []
    },
    {
      "cell_type": "markdown",
      "source": [
        "We have just finished our code for simulation. Let us go ahead and actually generate simulations below. Feel free to modify the initial velocity to get a glance of the diaplacement trends w.r.t time."
      ],
      "metadata": {
        "id": "7_gAFX6P4Fu3"
      }
    },
    {
      "cell_type": "code",
      "source": [
        "medium = 'AIR_QUADRATIC_DRAG'\n",
        "u_initial = 117.92\n",
        "times, velocities, displacements = simulate_flight(u_initial, medium)\n",
        "plot_simulation(times, velocities, displacements)"
      ],
      "metadata": {
        "colab": {
          "base_uri": "https://localhost:8080/",
          "height": 279
        },
        "id": "DKDwpX535pYL",
        "outputId": "ddef11e0-0ab4-4078-c212-75843f4a3bf4"
      },
      "execution_count": 7,
      "outputs": [
        {
          "output_type": "display_data",
          "data": {
            "text/plain": [
              "<Figure size 432x288 with 1 Axes>"
            ],
            "image/png": "[encoded data removed]"
          },
          "metadata": {
            "needs_background": "light"
          }
        }
      ]
    },
    {
      "cell_type": "markdown",
      "source": [
        "## The Data\n",
        "Now that we have a physics simulation, let us run few simulations and collect the data. i,e we input few random initial velocities, times and get the corresponding displacements during the flight.\n",
        "\n",
        "For this specific task, let us keep the initial velocities between $0$ to $100$ and time step range betwen $0$ to time of flight $T_{flight}$ \n",
        "\n",
        "$$u_0 \\in (0, 100)$$\n",
        "\n",
        "The collected data would look like this, $X, Y$ where\n",
        "$X = (u, t), Y = (s_t)$   \n",
        "$u, t$ represent initial velocity and time step, where as $S_t$ represents displacement covered after time $t$.\n",
        "\n",
        "We will also split the dataset collected into train and test respectively."
      ],
      "metadata": {
        "id": "nm6S5Yl76l_b"
      }
    },
    {
      "cell_type": "code",
      "source": [
        "# Min and Max of initial velocity (in m/s)\n",
        "U0_MIN = 0\n",
        "U0_MAX = 100\n",
        "\n",
        "def create_data(N_DATA_SAMPLES, D_TYPE, medium, U0_MIN=U0_MIN, U0_MAX=U0_MAX):\n",
        "  if D_TYPE not in ['VELOCITY', 'DISPLACEMENT', 'VELOCITY_DISPLACEMENT']:\n",
        "    return\n",
        "  data = []\n",
        "  for i in range(N_DATA_SAMPLES):\n",
        "    u0 = U0_MIN + np.random.rand(1)*(U0_MAX - U0_MIN)\n",
        "    T   = time_of_flight(u0, medium)\n",
        "    t   = np.random.rand(1)*T\n",
        "    v_t = velocity_t(u0, t, medium)\n",
        "    s_t = displacement_t(u0, t, medium)\n",
        "\n",
        "    # create a data point\n",
        "    Y = None\n",
        "    if D_TYPE=='VELOCITY':\n",
        "      Y = np.array([v_t])\n",
        "    elif D_TYPE=='DISPLACEMENT':\n",
        "      Y = np.array([s_t])\n",
        "    elif D_TYPE=='VELOCITY_DISPLACEMENT':\n",
        "      Y = np.array([v_t, s_t])\n",
        "    else:\n",
        "      return\n",
        "\n",
        "    # print(Y)\n",
        "    datapoint = (np.array([u0, t]), Y)\n",
        "    data.append(datapoint)\n",
        "\n",
        "  print(\"Dataset created!!\")\n",
        "  print(\"Dataset size\", len(data))\n",
        "  return data\n",
        "\n",
        "N_DATA_SAMPLES      = 10000\n",
        "dataset             = create_data(N_DATA_SAMPLES, 'DISPLACEMENT', 'AIR_QUADRATIC_DRAG', 20, 120)\n",
        "dataset_train       = dataset[:int(N_DATA_SAMPLES*0.8)]\n",
        "dataset_test        = dataset[int(N_DATA_SAMPLES*0.8):]"
      ],
      "metadata": {
        "id": "rglL-1RA6lLx",
        "colab": {
          "base_uri": "https://localhost:8080/"
        },
        "outputId": "db923f03-8cbb-420c-8543-f626b6ee3b9f"
      },
      "execution_count": 8,
      "outputs": [
        {
          "output_type": "stream",
          "name": "stdout",
          "text": [
            "Dataset created!!\n",
            "Dataset size 10000\n"
          ]
        }
      ]
    },
    {
      "cell_type": "markdown",
      "source": [
        "## Only Physics\n",
        "\n",
        "We assume that we are not aware of the exact dynamics followed by the particle in the generated data, however we know the equations of motion followed by a particle in vaccum. Using this physics knowledge of ours, let us try to predict the displacement and compare our prediction with the ground truth.\n",
        "\n",
        "The equations of motion for a vertically projected particle mass in vaccum are as follows.\n",
        "\n",
        "$S_t = u_0t-\\frac{1}{2}gt^2$, where $g \\sim 10 \\frac{m}{s^2}$\n",
        "\n",
        "In the following code, we write our prediction function just based on physics, use it to create a simulation and also calculate the loss on the test datset which we have created earlier."
      ],
      "metadata": {
        "id": "vCuxBYaAlDRq"
      }
    },
    {
      "cell_type": "code",
      "source": [
        "# The physics model\n",
        "def physics_displacement_t(u_initial, t):\n",
        "  s_t = u_initial*t - (1/2)*g*t*t\n",
        "  if s_t<0:\n",
        "    return 0.0\n",
        "  return s_t"
      ],
      "metadata": {
        "id": "chsSXXJ0UVJ7"
      },
      "execution_count": 9,
      "outputs": []
    },
    {
      "cell_type": "markdown",
      "source": [
        "Let us now compare our predictions with the ground truth by varying the initial velocity."
      ],
      "metadata": {
        "id": "t1pxgcLU5_Cf"
      }
    },
    {
      "cell_type": "code",
      "source": [
        "def physics_simulation(u_initial):\n",
        "  T =  time_of_flight(u_initial, \"AIR_QUADRATIC_DRAG\")\n",
        "  t = 0\n",
        "  times = []\n",
        "  displacements = []\n",
        "  while t <= T:\n",
        "    s_t = physics_displacement_t(u_initial, t)\n",
        "    times.append(t)\n",
        "    displacements.append(s_t)\n",
        "    t = t+(1/5)\n",
        "\n",
        "  return times, displacements\n",
        "  \n",
        "u0 = 97.223\n",
        "m_times, m_displacements = physics_simulation(u0)\n",
        "times, velocities, displacements = simulate_flight(u0, \"AIR_QUADRATIC_DRAG\")\n",
        "compare_plot(times, displacements, m_displacements, 'DISPLACEMENT')"
      ],
      "metadata": {
        "colab": {
          "base_uri": "https://localhost:8080/",
          "height": 295
        },
        "id": "t7fVSKyP6E8-",
        "outputId": "89426a9b-6d4f-4848-fb87-e584dc479415"
      },
      "execution_count": 10,
      "outputs": [
        {
          "output_type": "display_data",
          "data": {
            "text/plain": [
              "<Figure size 432x288 with 1 Axes>"
            ],
            "image/png": "[encoded data removed]"
          },
          "metadata": {
            "needs_background": "light"
          }
        }
      ]
    },
    {
      "cell_type": "markdown",
      "source": [
        "To get some quantitative estimation and also to compae various methods, we will go ahead and calculate the loss of our physics based prediction w.r.t the ground truth data. We will be using the standard MSE Loss."
      ],
      "metadata": {
        "id": "QFXc4kdZ6mQQ"
      }
    },
    {
      "cell_type": "code",
      "source": [
        "def physics_model_loss(test_dataset):\n",
        "  N = len(test_dataset)\n",
        "  total_loss = 0.0\n",
        "  for data_point in test_dataset:\n",
        "    X, Y = data_point\n",
        "    prediction = physics_displacement_t(X[0], X[1])\n",
        "    actual = Y[0]\n",
        "    loss = (prediction-actual)*(prediction-actual)\n",
        "    total_loss = total_loss+loss.item()\n",
        "  \n",
        "  return total_loss/N\n",
        "\n",
        "print(\"Only Physics Loss \", physics_model_loss(dataset_test))"
      ],
      "metadata": {
        "colab": {
          "base_uri": "https://localhost:8080/"
        },
        "id": "S_pxbiP9615G",
        "outputId": "874480d5-f37f-4c1b-8feb-63b9711c7856"
      },
      "execution_count": 11,
      "outputs": [
        {
          "output_type": "stream",
          "name": "stdout",
          "text": [
            "Only Physics Loss  18032.37606143409\n"
          ]
        }
      ]
    },
    {
      "cell_type": "markdown",
      "source": [
        "## Only Deep Learing\n",
        "\n",
        "Now, we try to leverage our modern deep learning techniques to predict the displacement. We will use a simple MLP for the prediction. We start by defining the dataset, model and loss employed."
      ],
      "metadata": {
        "id": "9ws2MMmXYFe5"
      }
    },
    {
      "cell_type": "markdown",
      "source": [
        "### Dataset, Model and Loss\n"
      ],
      "metadata": {
        "id": "-Y3r66Q03GrC"
      }
    },
    {
      "cell_type": "code",
      "source": [
        "# Dataset\n",
        "class PhysicsData(Dataset):\n",
        "  def __init__(self, data):\n",
        "    self.data = data\n",
        "  def __len__(self):\n",
        "    return len(self.data)\n",
        "  def __getitem__(self, index):\n",
        "    return self.data[index]\n",
        "\n",
        "# Simple model for predicting Displacement\n",
        "class NewtonNet(nn.Module):\n",
        "  def __init__(self):\n",
        "    super().__init__()\n",
        "    self.nn1 = nn.Linear(in_features=2, out_features=16)\n",
        "    self.nn2 = nn.Linear(in_features=16, out_features=16)\n",
        "    self.nn3 = nn.Linear(in_features=16, out_features=1)\n",
        "    self.relu = nn.ReLU()\n",
        "    \n",
        "  def forward(self, x):\n",
        "    x = self.nn1(x)\n",
        "    x = self.relu(x)\n",
        "    x = self.nn2(x)\n",
        "    x = self.relu(x)\n",
        "    x = self.nn3(x)\n",
        "    return x\n",
        "\n",
        "# Define custom loss\n",
        "class CustomMSELoss(nn.Module):\n",
        "  def __init__(self):\n",
        "    super(CustomMSELoss, self).__init__()\n",
        "    self.mseLoss = nn.MSELoss()\n",
        "\n",
        "  def forward(self, Y_predicted, Y_actual, X):\n",
        "    loss = self.mseLoss(Y_predicted, Y_actual)\n",
        "    return loss"
      ],
      "metadata": {
        "id": "4usZ7bOYwO3k"
      },
      "execution_count": 12,
      "outputs": []
    },
    {
      "cell_type": "markdown",
      "source": [
        "### Training\n",
        "Next, we write the appropriate training module to train, test any generic model with specified parameters and train the network on our collected dataset."
      ],
      "metadata": {
        "id": "gEhv_aY0edjM"
      }
    },
    {
      "cell_type": "code",
      "source": [
        "# Training\n",
        "def train(model, train_dataloader, optimizer, criterion, epochs, verbose=False):\n",
        "  model = model.to(device)\n",
        "  model.train()\n",
        "\n",
        "  all_epochs = []\n",
        "  all_losses = []\n",
        "\n",
        "  epoch_loss = 0.0\n",
        "  for epoch in range(epochs):\n",
        "    epoch_loss = 0.0\n",
        "    for i, batch in enumerate(train_dataloader):\n",
        "      X, Y  = batch[0], batch[1]\n",
        "      X     = torch.transpose(X, 1, 2)\n",
        "      Y     = torch.transpose(Y, 1, 2)\n",
        "      X     = X.to(device)\n",
        "      Y     = Y.to(device)\n",
        "      Y_predicted = model(X.float())\n",
        "\n",
        "      optimizer.zero_grad()\n",
        "      loss = criterion(Y_predicted, Y.float(), X.float())\n",
        "      epoch_loss = epoch_loss+loss.item()\n",
        "      loss.backward()\n",
        "      optimizer.step()\n",
        "\n",
        "    if verbose:\n",
        "      print(f\"epoch : {epoch+1}, loss : {epoch_loss/len(train_dataloader):.5f}\")\n",
        "    else:\n",
        "      if epoch%10 == 0:\n",
        "        print(f\"epoch : {epoch}, loss : {epoch_loss/len(train_dataloader):.5f}\")\n",
        "\n",
        "    all_epochs.append(epoch+1)\n",
        "    all_losses.append(epoch_loss/len(train_dataloader))\n",
        "  \n",
        "  print(\"Done Training!\")\n",
        "  print(f\"epoch : {epochs}, loss : {epoch_loss/len(train_dataloader):.5f}\")\n",
        "  return model, all_losses, all_epochs\n",
        "\n",
        "# Testing\n",
        "def test(model, test_dataloader, criterion):\n",
        "  model = model.to(device)\n",
        "  model.eval()\n",
        "\n",
        "  total_loss = 0.0\n",
        "  with torch.no_grad():\n",
        "    for i, batch in enumerate(test_dataloader):\n",
        "      X, Y  = batch[0], batch[1]\n",
        "      X     = torch.transpose(X, 1, 2)\n",
        "      Y     = torch.transpose(Y, 1, 2)\n",
        "      X     = X.to(device)\n",
        "      Y     = Y.to(device)\n",
        "      Y_predicted = model(X.float())\n",
        "\n",
        "      loss = criterion(Y_predicted, Y.float(), X.float())\n",
        "      total_loss = total_loss+loss.item()\n",
        "\n",
        "  avarage_loss = total_loss/len(test_dataloader)\n",
        "  print(f\"Average loss : {avarage_loss:.5f}\")\n",
        "  return avarage_loss"
      ],
      "metadata": {
        "id": "SD5eO5Ayd31H"
      },
      "execution_count": 13,
      "outputs": []
    },
    {
      "cell_type": "code",
      "source": [
        "BATCH_SIZE          = 16\n",
        "model_s             = NewtonNet()\n",
        "train_dataloader_s  = DataLoader(dataset_train, batch_size=BATCH_SIZE, shuffle=True)\n",
        "optimizer_s         = optim.Adam(model_s.parameters(), lr = 0.005)\n",
        "criterion           = CustomMSELoss()\n",
        "epochs              = 100\n",
        "\n",
        "model_s, t_loss, t_epochs = train(model_s, train_dataloader_s, optimizer_s, criterion, epochs, verbose=False)\n",
        "loss_plot(t_epochs, t_loss)"
      ],
      "metadata": {
        "id": "ayfTNL1N5B1K",
        "colab": {
          "base_uri": "https://localhost:8080/",
          "height": 493
        },
        "outputId": "67e22361-bb75-474a-de8f-36f59bb7ca34"
      },
      "execution_count": 14,
      "outputs": [
        {
          "output_type": "stream",
          "name": "stdout",
          "text": [
            "epoch : 0, loss : 8479.95282\n",
            "epoch : 10, loss : 6194.43660\n",
            "epoch : 20, loss : 6163.41603\n",
            "epoch : 30, loss : 6178.98894\n",
            "epoch : 40, loss : 6209.79873\n",
            "epoch : 50, loss : 2306.33343\n",
            "epoch : 60, loss : 553.49150\n",
            "epoch : 70, loss : 96.28482\n",
            "epoch : 80, loss : 63.94182\n",
            "epoch : 90, loss : 55.52834\n",
            "Done Training!\n",
            "epoch : 100, loss : 48.12773\n"
          ]
        },
        {
          "output_type": "display_data",
          "data": {
            "text/plain": [
              "<Figure size 432x288 with 1 Axes>"
            ],
            "image/png": "[encoded data removed]"
          },
          "metadata": {
            "needs_background": "light"
          }
        }
      ]
    },
    {
      "cell_type": "markdown",
      "source": [
        "Looks like our training has finished. Let us see how well it performs on the test data."
      ],
      "metadata": {
        "id": "p1tEQcVh8RMH"
      }
    },
    {
      "cell_type": "code",
      "source": [
        "# Test loss\n",
        "test_dataloader_s = DataLoader(dataset_test, batch_size=BATCH_SIZE, shuffle=True)\n",
        "avg_loss = test(model_s, test_dataloader_s, criterion)"
      ],
      "metadata": {
        "id": "uygXF3khHs4s",
        "colab": {
          "base_uri": "https://localhost:8080/"
        },
        "outputId": "1ccdfcb2-8f21-4f44-dbf1-ab13d8ddca0b"
      },
      "execution_count": 15,
      "outputs": [
        {
          "output_type": "stream",
          "name": "stdout",
          "text": [
            "Average loss : 42.08064\n"
          ]
        }
      ]
    },
    {
      "cell_type": "markdown",
      "source": [
        "### Inference\n",
        "It is important for us to visualise how our trained model predictions look when compared to the ground truth. So let us write code to infer the displacement from a trained network and use it to generate the entire simulation."
      ],
      "metadata": {
        "id": "Qptq8v1daTfL"
      }
    },
    {
      "cell_type": "code",
      "source": [
        "def single_inference(D_TYPE, model, u0, t):\n",
        "  input   = torch.tensor([[u0, t]])\n",
        "  input   = input.unsqueeze(0)\n",
        "  input   = input.to(device)\n",
        "  output  = model(input.float())\n",
        "  output  = output.cpu().data.numpy()\n",
        "\n",
        "  if D_TYPE=='VELOCITY':\n",
        "    return output[0][0][0], 0\n",
        "  elif D_TYPE=='DISPLACEMENT':\n",
        "    return 0, output[0][0][0]\n",
        "  elif D_TYPE=='VELOCITY_DISPLACEMENT':\n",
        "    return output[0][0][0], output[0][0][1]\n",
        "  else:\n",
        "    return\n",
        "\n",
        "def simulation_inference(D_TYPE, model, u0, medium):\n",
        "  model = model.to(device)\n",
        "  T = time_of_flight(u0, medium) # time of flight\n",
        "  t = 0\n",
        "  times = []\n",
        "  velocities = []\n",
        "  displacements = []\n",
        "  # calculate velocity at evert time step (of one second interval)\n",
        "  while t <= T:\n",
        "    v_t = None\n",
        "    s_t = None\n",
        "    v_t, s_t = single_inference(D_TYPE, model, u0, t)\n",
        "    times.append(t)\n",
        "    velocities.append(v_t)\n",
        "    displacements.append(s_t)\n",
        "    t = t+(1/5)\n",
        "\n",
        "  return times, velocities, displacements"
      ],
      "metadata": {
        "id": "T7pSCBJ0Z5lO"
      },
      "execution_count": 16,
      "outputs": []
    },
    {
      "cell_type": "markdown",
      "source": [
        "Use the following code to test and visualise how our trained model performs w.r.t various initial velocities."
      ],
      "metadata": {
        "id": "XDHqrfsX89FL"
      }
    },
    {
      "cell_type": "code",
      "source": [
        "# Run simulation and compare\n",
        "U_INITIAL = 87.4356\n",
        "times_p, velocities_p, displacements_p  = simulation_inference('DISPLACEMENT', model_s, U_INITIAL, 'AIR_QUADRATIC_DRAG')\n",
        "times, velocities, displacements        = simulate_flight(U_INITIAL, 'AIR_QUADRATIC_DRAG')\n",
        "compare_plot(times, displacements, displacements_p, 'DISPLACEMENT')"
      ],
      "metadata": {
        "id": "bWWN76CxH48P",
        "colab": {
          "base_uri": "https://localhost:8080/",
          "height": 295
        },
        "outputId": "d416ee24-dfa5-4403-f267-4fc5452b9abe"
      },
      "execution_count": 17,
      "outputs": [
        {
          "output_type": "display_data",
          "data": {
            "text/plain": [
              "<Figure size 432x288 with 1 Axes>"
            ],
            "image/png": "[encoded data removed]"
          },
          "metadata": {
            "needs_background": "light"
          }
        }
      ]
    },
    {
      "cell_type": "markdown",
      "source": [
        "## Physics + Deep Learning\n",
        "As we have tried both physics based approach as well as deep learning based appraoch. Let us now combine both of them to train a network which used deep learning as well as the physics. One way to induct physics into DL is by adding appropriate loss function, similar to the below one.\n",
        "\n",
        "### Supervised + Physics based loss\n",
        "\n",
        "Let us try out including both supervision and physics to guide our learning. We will use the following loss function.\n",
        "\n",
        "$L_{supervised+phy} = (v_{predicted}-v_{actual})^2+(s_{predicted}-s_{actual})^2+\\gamma*(v_{predicted}^2-u_{initial}^2-2*g*s_{predicted})^2$\n",
        "\n",
        "$\\gamma$ is used to control weightage given to the physics term."
      ],
      "metadata": {
        "id": "Ihc3OMWjAqC6"
      }
    },
    {
      "cell_type": "markdown",
      "source": [
        "### Dataset, Model and Loss\n",
        "\n",
        "Let use define a new model to predict both velocity and displacement, corresponding loss function for this method."
      ],
      "metadata": {
        "id": "YhW-EaDF0vh6"
      }
    },
    {
      "cell_type": "code",
      "source": [
        "N_DATA_SAMPLES      = 10000\n",
        "dataset             = create_data(N_DATA_SAMPLES, 'VELOCITY_DISPLACEMENT', 'AIR_QUADRATIC_DRAG', 20, 120)\n",
        "dataset_train       = dataset[:int(N_DATA_SAMPLES*0.8)]\n",
        "dataset_test        = dataset[int(N_DATA_SAMPLES*0.8):]\n",
        "\n",
        "class PhysicsNewtonNet(nn.Module):\n",
        "  def __init__(self):\n",
        "    super().__init__()\n",
        "    self.nn1 = nn.Linear(in_features=2, out_features=16)\n",
        "    self.nn2 = nn.Linear(in_features=16, out_features=4)\n",
        "    self.nn3 = nn.Linear(in_features=4, out_features=2)\n",
        "    self.relu = nn.ReLU()\n",
        "    \n",
        "  def forward(self, x):\n",
        "    x = self.nn1(x)\n",
        "    x = self.relu(x)\n",
        "    x = self.nn2(x)\n",
        "    x = self.relu(x)\n",
        "    x = self.nn3(x)\n",
        "    return x\n",
        "\n",
        "class SupervisedPlusPhysicsBasedLoss(nn.Module):\n",
        "  def __init__(self, gamma):\n",
        "    super(SupervisedPlusPhysicsBasedLoss, self).__init__()\n",
        "    self.gamma = gamma\n",
        "\n",
        "  def forward(self, Y_predicted, Y_actual, X):\n",
        "    v_predicted = Y_predicted[:, :, 0]\n",
        "    s_predicted = Y_predicted[:, :, 1]\n",
        "    u_initial = X[:, :, 0]\n",
        "    v_square_from_s = torch.add(torch.square(u_initial), -2*g*s_predicted)\n",
        "    v_square_from_predicted = torch.square(v_predicted)\n",
        "    difference = torch.subtract(v_square_from_predicted, v_square_from_s)\n",
        "    squared_difference = torch.square(difference)\n",
        "\n",
        "    # supervised v term\n",
        "    v_actual = Y_actual[:, :, 0]\n",
        "    difference_v = torch.subtract(v_predicted, v_actual)\n",
        "    squared_difference_v = torch.square(difference_v)\n",
        "\n",
        "    # supervised s term\n",
        "    s_actual = Y_actual[:, :, 1]\n",
        "    difference_s = torch.subtract(s_predicted, s_actual)\n",
        "    squared_difference_s = torch.square(difference_s)\n",
        "\n",
        "    sqr_diff_sum = torch.add(squared_difference_v, squared_difference_s)\n",
        "    sqr_diff_sum = torch.add(sqr_diff_sum, self.gamma*squared_difference)\n",
        "\n",
        "    loss = torch.sum(sqr_diff_sum)\n",
        "    loss = loss/X.shape[0]\n",
        "    return loss"
      ],
      "metadata": {
        "id": "kfCdCRyOp4ak",
        "colab": {
          "base_uri": "https://localhost:8080/"
        },
        "outputId": "ec772c02-f5df-473e-d5c9-bc576a4cb0ed"
      },
      "execution_count": 18,
      "outputs": [
        {
          "output_type": "stream",
          "name": "stdout",
          "text": [
            "Dataset created!!\n",
            "Dataset size 10000\n"
          ]
        }
      ]
    },
    {
      "cell_type": "markdown",
      "source": [
        "### Training\n",
        "\n",
        "Train the model on exact same data which is used in the Deep Learning method using the new model and new loss defined."
      ],
      "metadata": {
        "id": "qepM-pxz05vR"
      }
    },
    {
      "cell_type": "code",
      "source": [
        "BATCH_SIZE                  = 16\n",
        "model_v_s_supervisedPhy     = PhysicsNewtonNet()\n",
        "train_dataloader_v_s        = DataLoader(dataset_train, batch_size=BATCH_SIZE, shuffle=True)\n",
        "optimizer_v_s_supervisedPhy = optim.Adam(model_v_s_supervisedPhy.parameters(), lr = 0.005)\n",
        "criterion                   = SupervisedPlusPhysicsBasedLoss(gamma=0.00001)\n",
        "epochs                      = 100\n",
        "model_v_s_supervisedPhy, t_loss, t_epochs = train(model_v_s_supervisedPhy, train_dataloader_v_s, optimizer_v_s_supervisedPhy, criterion, epochs)\n",
        "loss_plot(t_epochs, t_loss)"
      ],
      "metadata": {
        "id": "2-62K8W6vEzy",
        "colab": {
          "base_uri": "https://localhost:8080/",
          "height": 493
        },
        "outputId": "99fe8d5a-0a86-4663-e2f0-cbd801c56c97"
      },
      "execution_count": 28,
      "outputs": [
        {
          "output_type": "stream",
          "name": "stdout",
          "text": [
            "epoch : 0, loss : 9919.27278\n",
            "epoch : 10, loss : 540.61859\n",
            "epoch : 20, loss : 238.72540\n",
            "epoch : 30, loss : 205.75346\n",
            "epoch : 40, loss : 192.86591\n",
            "epoch : 50, loss : 187.55922\n",
            "epoch : 60, loss : 183.59052\n",
            "epoch : 70, loss : 184.58625\n",
            "epoch : 80, loss : 178.23121\n",
            "epoch : 90, loss : 171.50321\n",
            "Done Training!\n",
            "epoch : 100, loss : 172.01582\n"
          ]
        },
        {
          "output_type": "display_data",
          "data": {
            "text/plain": [
              "<Figure size 432x288 with 1 Axes>"
            ],
            "image/png": "[encoded data removed]"
          },
          "metadata": {
            "needs_background": "light"
          }
        }
      ]
    },
    {
      "cell_type": "markdown",
      "source": [
        "Calculate the test loss on the test dataset."
      ],
      "metadata": {
        "id": "fRgCFtxo91pT"
      }
    },
    {
      "cell_type": "code",
      "source": [
        "# Test loss\n",
        "test_dataloader_supervisedPhy = DataLoader(dataset_test, batch_size=BATCH_SIZE, shuffle=True)\n",
        "avg_loss = test(model_v_s_supervisedPhy, test_dataloader_supervisedPhy, criterion)"
      ],
      "metadata": {
        "colab": {
          "base_uri": "https://localhost:8080/"
        },
        "id": "RwTiBWG3npwR",
        "outputId": "5ce89405-f0f1-47a8-a65e-741cac1ff9be"
      },
      "execution_count": 29,
      "outputs": [
        {
          "output_type": "stream",
          "name": "stdout",
          "text": [
            "Average loss : 158.28286\n"
          ]
        }
      ]
    },
    {
      "cell_type": "markdown",
      "source": [
        "### Inference\n",
        "\n",
        "Let us perform a similar inference simulation as done previously to check how close our results are w.r.t ground truth simulation"
      ],
      "metadata": {
        "id": "R3j7_OQV09Hb"
      }
    },
    {
      "cell_type": "code",
      "source": [
        "# Run simulation and compare\n",
        "U_INITIAL = 77.4356\n",
        "times_p, velocities_p, displacements_p  = simulation_inference('VELOCITY_DISPLACEMENT', model_v_s_supervisedPhy, U_INITIAL, 'AIR_QUADRATIC_DRAG')\n",
        "times, velocities, displacements        = simulate_flight(U_INITIAL, 'AIR_QUADRATIC_DRAG')\n",
        "compare_plot(times, velocities, velocities_p, 'VELOCITY')\n",
        "compare_plot(times, displacements, displacements_p, 'DISPLACEMENT')"
      ],
      "metadata": {
        "id": "RAvVnV3UxW1V",
        "colab": {
          "base_uri": "https://localhost:8080/",
          "height": 573
        },
        "outputId": "8a02a897-839d-450a-9539-726f21c1db7e"
      },
      "execution_count": 30,
      "outputs": [
        {
          "output_type": "display_data",
          "data": {
            "text/plain": [
              "<Figure size 432x288 with 1 Axes>"
            ],
            "image/png": "[encoded data removed]"
          },
          "metadata": {
            "needs_background": "light"
          }
        },
        {
          "output_type": "display_data",
          "data": {
            "text/plain": [
              "<Figure size 432x288 with 1 Axes>"
            ],
            "image/png": "[encoded data removed]"
          },
          "metadata": {
            "needs_background": "light"
          }
        }
      ]
    },
    {
      "cell_type": "markdown",
      "source": [
        "## Comparison\n",
        "Now that we have seen the three methods for predicting desplacement, Let us try to compare the perfromance of these methods.\n",
        "The figure below dipicts a plot for comparing the three methods according to the availability of data, showing the test loss trends w.r.t dataset size.\n",
        "\n",
        "#### Plot-To-Be-Updated"
      ],
      "metadata": {
        "id": "C87QWLsrz_Ph"
      }
    },
    {
      "cell_type": "markdown",
      "source": [
        "## Conclusion\n",
        "\n"
      ],
      "metadata": {
        "id": "Cyy50M_g28a9"
      }
    }
  ]
}